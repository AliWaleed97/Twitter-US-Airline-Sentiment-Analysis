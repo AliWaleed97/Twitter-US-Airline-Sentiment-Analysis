{
 "cells": [
  {
   "cell_type": "code",
   "execution_count": 20,
   "metadata": {},
   "outputs": [],
   "source": [
    "import nltk\n",
    "import pandas as pd\n",
    "import nltk\n",
    "import re\n",
    "from string import punctuation\n",
    "from sklearn.metrics import classification_report\n",
    "from sklearn.model_selection import train_test_split\n",
    "from nltk.corpus import stopwords\n",
    "from nltk.tokenize import word_tokenize\n",
    "from langdetect import detect\n",
    "from nltk.stem import PorterStemmer"
   ]
  },
  {
   "cell_type": "markdown",
   "metadata": {},
   "source": [
    "\n",
    "# Reading the dataset"
   ]
  },
  {
   "cell_type": "code",
   "execution_count": 21,
   "metadata": {},
   "outputs": [],
   "source": [
    "df = pd.read_csv('Tweets.csv', encoding=\"utf-8\")\n",
    "Y = df['airline_sentiment']\n",
    "tweets = df['text']"
   ]
  },
  {
   "cell_type": "markdown",
   "metadata": {},
   "source": [
    "# Filtering"
   ]
  },
  {
   "cell_type": "code",
   "execution_count": 16,
   "metadata": {},
   "outputs": [],
   "source": [
    "for idx, tweet in enumerate(tweets):\n",
    "    if(re.search(r'\\b' + 'RT' + r'\\b', tweet) or len(tweet)<20 or detect(tweet)!='en'):\n",
    "        del tweets[idx]\n",
    "        del Y[idx]"
   ]
  },
  {
   "cell_type": "markdown",
   "metadata": {},
   "source": [
    "# Preprocessing"
   ]
  },
  {
   "cell_type": "code",
   "execution_count": 22,
   "metadata": {},
   "outputs": [],
   "source": [
    "# URL stripping\n",
    "tweets = [re.sub(r'https?:\\/\\/.*[\\r\\n]*', '', tweet).strip() for tweet in tweets]\n",
    "\n",
    "# tweets = [''.join(character for character in text if ord(character)< 128)for text in tweets]\n",
    "\n",
    "# tokenization\n",
    "tweets_tokens = []\n",
    "for tweet in tweets:\n",
    "    tweets_tokens.append(word_tokenize(tweet))\n",
    "    \n",
    "# # punctuation\n",
    "# punctuation += \"“’…”\"\n",
    "# tweets_tokens = [''.join([char for char in text.decode('utf-8').encode('ascii') if char not in punctuation]) for text in tweets]\n",
    "\n",
    "# case folding\n",
    "tweets_tokens = [[word.lower() for word in token] for token in tweets_tokens]\n",
    "\n",
    "#stemming\n",
    "ps = PorterStemmer()\n",
    "tweets_tokens = [[ps.stem(word) for word in token] for token in tweets_tokens]\n",
    "\n",
    "# remove stopwords\n",
    "stop_words = set(stopwords.words('english')) \n",
    "tweets_tokens = [[word for word in token if not word in stop_words] for token in tweets_tokens]\n",
    "\n",
    "X = [' '.join(words) for words in tweets_tokens]"
   ]
  },
  {
   "cell_type": "markdown",
   "metadata": {},
   "source": [
    "# Splitting"
   ]
  },
  {
   "cell_type": "code",
   "execution_count": 23,
   "metadata": {},
   "outputs": [],
   "source": [
    "# Split the dataset into 80% training.\n",
    "X_train, X_test, y_train, y_test = train_test_split(X, Y, test_size=0.2, random_state=0)\n"
   ]
  },
  {
   "cell_type": "markdown",
   "metadata": {},
   "source": [
    "# Calculating tf-idf "
   ]
  },
  {
   "cell_type": "code",
   "execution_count": 24,
   "metadata": {},
   "outputs": [],
   "source": [
    "from sklearn.feature_extraction.text import TfidfVectorizer\n",
    "\n",
    "vectorizer = TfidfVectorizer()\n",
    "\n",
    "# Calculating the tf-idf scores\n",
    "X_train_transformed = vectorizer.fit_transform(X_train)\n",
    "X_test_transformed = vectorizer.transform(X_test)"
   ]
  },
  {
   "cell_type": "markdown",
   "metadata": {},
   "source": [
    "# Training and predicting"
   ]
  },
  {
   "cell_type": "code",
   "execution_count": 217,
   "metadata": {},
   "outputs": [
    {
     "name": "stdout",
     "output_type": "stream",
     "text": [
      "             precision    recall  f1-score   support\n",
      "\n",
      "   negative       0.68      1.00      0.81      1832\n",
      "    neutral       0.83      0.11      0.19       586\n",
      "   positive       0.93      0.15      0.26       429\n",
      "\n",
      "avg / total       0.75      0.69      0.60      2847\n",
      "\n"
     ]
    }
   ],
   "source": [
    "from sklearn.naive_bayes import MultinomialNB\n",
    "from sklearn.neighbors import KNeighborsClassifier\n",
    "from sklearn.ensemble import RandomForestClassifier\n",
    "\n",
    "\n",
    "# Initialize classifiers\n",
    "NB = MultinomialNB()\n",
    "KN = KNeighborsClassifier()\n",
    "RF = RandomForestClassifier()\n",
    "\n",
    "# Train classifiers\n",
    "NB.fit(X_train_transformed, y_train)\n",
    "KN.fit(X_train_transformed, y_train)\n",
    "RF.fit(X_train_transformed, y_train)\n",
    "\n",
    "# Predictions\n",
    "NB_prediction = NB.predict(X_test_transformed)\n",
    "KN_prediction = KN.predict(X_test_transformed)\n",
    "RF_prediction = RF.predict(X_test_transformed)\n"
   ]
  },
  {
   "cell_type": "markdown",
   "metadata": {},
   "source": [
    "# Evaluation\n"
   ]
  },
  {
   "cell_type": "code",
   "execution_count": 220,
   "metadata": {},
   "outputs": [
    {
     "name": "stdout",
     "output_type": "stream",
     "text": [
      "             precision    recall  f1-score   support\n",
      "\n",
      "   negative       0.68      1.00      0.81      1832\n",
      "    neutral       0.83      0.11      0.19       586\n",
      "   positive       0.93      0.15      0.26       429\n",
      "\n",
      "avg / total       0.75      0.69      0.60      2847\n",
      "\n"
     ]
    }
   ],
   "source": [
    "print classification_report(y_test, NB_prediction)"
   ]
  },
  {
   "cell_type": "code",
   "execution_count": 219,
   "metadata": {},
   "outputs": [
    {
     "name": "stdout",
     "output_type": "stream",
     "text": [
      "             precision    recall  f1-score   support\n",
      "\n",
      "   negative       0.82      0.76      0.79      1832\n",
      "    neutral       0.39      0.58      0.47       586\n",
      "   positive       0.64      0.41      0.50       429\n",
      "\n",
      "avg / total       0.70      0.67      0.68      2847\n",
      "\n"
     ]
    }
   ],
   "source": [
    "print classification_report(y_test, KN_prediction)"
   ]
  },
  {
   "cell_type": "code",
   "execution_count": 221,
   "metadata": {},
   "outputs": [
    {
     "name": "stdout",
     "output_type": "stream",
     "text": [
      "             precision    recall  f1-score   support\n",
      "\n",
      "   negative       0.77      0.94      0.85      1832\n",
      "    neutral       0.63      0.37      0.47       586\n",
      "   positive       0.70      0.45      0.55       429\n",
      "\n",
      "avg / total       0.73      0.75      0.72      2847\n",
      "\n"
     ]
    }
   ],
   "source": [
    "print classification_report(y_test, RF_prediction)"
   ]
  },
  {
   "cell_type": "code",
   "execution_count": null,
   "metadata": {},
   "outputs": [],
   "source": []
  }
 ],
 "metadata": {
  "kernelspec": {
   "display_name": "Python 2",
   "language": "python",
   "name": "python2"
  },
  "language_info": {
   "codemirror_mode": {
    "name": "ipython",
    "version": 2
   },
   "file_extension": ".py",
   "mimetype": "text/x-python",
   "name": "python",
   "nbconvert_exporter": "python",
   "pygments_lexer": "ipython2",
   "version": "2.7.12"
  }
 },
 "nbformat": 4,
 "nbformat_minor": 2
}
